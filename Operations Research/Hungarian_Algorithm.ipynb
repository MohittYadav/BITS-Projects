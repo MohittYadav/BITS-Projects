{
 "cells": [
  {
   "cell_type": "code",
   "execution_count": 1,
   "id": "f3050926",
   "metadata": {},
   "outputs": [
    {
     "name": "stdout",
     "output_type": "stream",
     "text": [
      "Optimal Assignments:\n",
      "Person 1 -> Job 5 (Cost: 200)\n",
      "Person 2 -> Job 3 (Cost: 130)\n",
      "Person 3 -> Job 2 (Cost: 110)\n",
      "Person 4 -> Job 1 (Cost: 50)\n",
      "Person 5 -> Job 4 (Cost: 80)\n",
      "\n",
      "Total Minimum Cost: 570\n"
     ]
    }
   ],
   "source": [
    "import numpy as np\n",
    "from scipy.optimize import linear_sum_assignment\n",
    "\n",
    "# Define the cost matrix (5x5)\n",
    "cost_matrix = np.array([\n",
    "    [160, 130, 175, 190, 200],\n",
    "    [135, 120, 130, 160, 175],\n",
    "    [140, 110, 155, 170, 185],\n",
    "    [50, 50, 80, 80, 110],\n",
    "    [55, 35, 70, 80, 105]\n",
    "])\n",
    "\n",
    "# Use the Hungarian algorithm to find the optimal assignment\n",
    "row_ind, col_ind = linear_sum_assignment(cost_matrix)\n",
    "\n",
    "# Calculate the total cost of the optimal assignment\n",
    "total_cost = cost_matrix[row_ind, col_ind].sum()\n",
    "\n",
    "# Print the results\n",
    "print(\"Optimal Assignments:\")\n",
    "for i, j in zip(row_ind, col_ind):\n",
    "    print(f\"Person {i+1} -> Job {j+1} (Cost: {cost_matrix[i, j]})\")\n",
    "\n",
    "print(f\"\\nTotal Minimum Cost: {total_cost}\")"
   ]
  },
  {
   "cell_type": "code",
   "execution_count": null,
   "id": "0ad7e93a",
   "metadata": {},
   "outputs": [],
   "source": []
  }
 ],
 "metadata": {
  "kernelspec": {
   "display_name": "Python 3 (ipykernel)",
   "language": "python",
   "name": "python3"
  },
  "language_info": {
   "codemirror_mode": {
    "name": "ipython",
    "version": 3
   },
   "file_extension": ".py",
   "mimetype": "text/x-python",
   "name": "python",
   "nbconvert_exporter": "python",
   "pygments_lexer": "ipython3",
   "version": "3.11.5"
  }
 },
 "nbformat": 4,
 "nbformat_minor": 5
}
